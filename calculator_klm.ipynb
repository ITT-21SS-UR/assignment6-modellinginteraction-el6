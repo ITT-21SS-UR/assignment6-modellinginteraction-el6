{
 "cells": [
  {
   "cell_type": "markdown",
   "id": "bearing-archives",
   "metadata": {},
   "source": [
    "# Determining times for KLM Operators in our Calculator\n",
    "\n",
    "In order to determine the values for KLM Operators in our calculator, we created a set of tasks that we executed while logging all important data, such as timestamps and pressed keys. The tasks were chosen to be of similar length, but with different numbers to prevent learning effects due to the participant memorizing the numbers.\n",
    "\n",
    "The tasks were as follows:\n",
    "\n",
    "```\n",
    "Enter the following calculations using the keyboard:\n",
    "\n",
    "55 * 12 - 100 =\n",
    "/ 20 + 5 + 6 + 7 - 170 = \n",
    "10 * 30 - 150 =\n",
    "\n",
    "\n",
    "Enter the following calculations using the mouse:\n",
    "\n",
    "33 * 40 - 100 =\n",
    "/ 30 + 8 + 9 + 1 - 170 =\n",
    "22 * 10 - 230 =\n",
    "\n",
    "\n",
    "Enter the following calculations using both mouse and keyboard. Switch the input method after every full \n",
    "number and operator (e.g. type \"55 *\" with the keyboard, then \"33 =\" with the mouse):\n",
    "\n",
    "34 * 41 - 800 =\n",
    "/ 60 + 4 + 1 + 3 - 650 = \n",
    "35 * 20 - 560 = \n",
    "```\n",
    "\n",
    "We will analyze the logged data in the following paragraphs."
   ]
  },
  {
   "cell_type": "code",
   "execution_count": 1,
   "id": "polyphonic-interstate",
   "metadata": {},
   "outputs": [],
   "source": [
    "import pandas as pd\n",
    "import statistics as stats\n",
    "from datetime import datetime, timedelta"
   ]
  },
  {
   "cell_type": "code",
   "execution_count": 2,
   "id": "grateful-infection",
   "metadata": {},
   "outputs": [
    {
     "data": {
      "text/html": [
       "<div>\n",
       "<style scoped>\n",
       "    .dataframe tbody tr th:only-of-type {\n",
       "        vertical-align: middle;\n",
       "    }\n",
       "\n",
       "    .dataframe tbody tr th {\n",
       "        vertical-align: top;\n",
       "    }\n",
       "\n",
       "    .dataframe thead th {\n",
       "        text-align: right;\n",
       "    }\n",
       "</style>\n",
       "<table border=\"1\" class=\"dataframe\">\n",
       "  <thead>\n",
       "    <tr style=\"text-align: right;\">\n",
       "      <th></th>\n",
       "      <th>timestamp</th>\n",
       "      <th>key</th>\n",
       "      <th>input_type</th>\n",
       "    </tr>\n",
       "  </thead>\n",
       "  <tbody>\n",
       "    <tr>\n",
       "      <th>0</th>\n",
       "      <td>2021-05-23 16:19:07.959645</td>\n",
       "      <td>5</td>\n",
       "      <td>KEYBOARD</td>\n",
       "    </tr>\n",
       "    <tr>\n",
       "      <th>1</th>\n",
       "      <td>2021-05-23 16:19:08.178622</td>\n",
       "      <td>5</td>\n",
       "      <td>KEYBOARD</td>\n",
       "    </tr>\n",
       "    <tr>\n",
       "      <th>2</th>\n",
       "      <td>2021-05-23 16:19:08.399618</td>\n",
       "      <td>*</td>\n",
       "      <td>KEYBOARD</td>\n",
       "    </tr>\n",
       "    <tr>\n",
       "      <th>3</th>\n",
       "      <td>2021-05-23 16:19:08.695590</td>\n",
       "      <td>1</td>\n",
       "      <td>KEYBOARD</td>\n",
       "    </tr>\n",
       "    <tr>\n",
       "      <th>4</th>\n",
       "      <td>2021-05-23 16:19:08.739606</td>\n",
       "      <td>2</td>\n",
       "      <td>KEYBOARD</td>\n",
       "    </tr>\n",
       "    <tr>\n",
       "      <th>...</th>\n",
       "      <td>...</td>\n",
       "      <td>...</td>\n",
       "      <td>...</td>\n",
       "    </tr>\n",
       "    <tr>\n",
       "      <th>97</th>\n",
       "      <td>2021-05-23 16:20:53.546660</td>\n",
       "      <td>-</td>\n",
       "      <td>KEYBOARD</td>\n",
       "    </tr>\n",
       "    <tr>\n",
       "      <th>98</th>\n",
       "      <td>2021-05-23 16:20:55.817579</td>\n",
       "      <td>5</td>\n",
       "      <td>BUTTON</td>\n",
       "    </tr>\n",
       "    <tr>\n",
       "      <th>99</th>\n",
       "      <td>2021-05-23 16:20:56.828606</td>\n",
       "      <td>6</td>\n",
       "      <td>BUTTON</td>\n",
       "    </tr>\n",
       "    <tr>\n",
       "      <th>100</th>\n",
       "      <td>2021-05-23 16:20:57.312667</td>\n",
       "      <td>0</td>\n",
       "      <td>BUTTON</td>\n",
       "    </tr>\n",
       "    <tr>\n",
       "      <th>101</th>\n",
       "      <td>2021-05-23 16:20:57.898867</td>\n",
       "      <td>Evaluate</td>\n",
       "      <td>BUTTON</td>\n",
       "    </tr>\n",
       "  </tbody>\n",
       "</table>\n",
       "<p>102 rows × 3 columns</p>\n",
       "</div>"
      ],
      "text/plain": [
       "                      timestamp       key input_type\n",
       "0    2021-05-23 16:19:07.959645         5   KEYBOARD\n",
       "1    2021-05-23 16:19:08.178622         5   KEYBOARD\n",
       "2    2021-05-23 16:19:08.399618         *   KEYBOARD\n",
       "3    2021-05-23 16:19:08.695590         1   KEYBOARD\n",
       "4    2021-05-23 16:19:08.739606         2   KEYBOARD\n",
       "..                          ...       ...        ...\n",
       "97   2021-05-23 16:20:53.546660         -   KEYBOARD\n",
       "98   2021-05-23 16:20:55.817579         5     BUTTON\n",
       "99   2021-05-23 16:20:56.828606         6     BUTTON\n",
       "100  2021-05-23 16:20:57.312667         0     BUTTON\n",
       "101  2021-05-23 16:20:57.898867  Evaluate     BUTTON\n",
       "\n",
       "[102 rows x 3 columns]"
      ]
     },
     "metadata": {},
     "output_type": "display_data"
    }
   ],
   "source": [
    "df = pd.read_csv('calc_logs.csv')\n",
    "display(df)"
   ]
  },
  {
   "cell_type": "code",
   "execution_count": 3,
   "id": "tender-satellite",
   "metadata": {},
   "outputs": [],
   "source": [
    "# here we separate all inputs from the csv into the \"blocks\" in which they happened\n",
    "# this is done by grouping all inputs with a delay of less than 5 seconds together\n",
    "\n",
    "input_blocks = [] # list of lists - holds the separate chains of inputs\n",
    "last_time = datetime.min\n",
    "start_row = None\n",
    "current_list = []\n",
    "\n",
    "for row in df.iterrows():\n",
    "    current_time = row[1]['timestamp']\n",
    "    \n",
    "    if start_row is None:\n",
    "        start_row = row\n",
    "        \n",
    "    current_time = datetime.strptime(current_time, \"%Y-%m-%d %H:%M:%S.%f\")\n",
    "        \n",
    "    log_timedelta = current_time - last_time\n",
    "    \n",
    "    if log_timedelta.seconds > 5:\n",
    "        if len(current_list) > 0:\n",
    "            input_blocks.append(current_list.copy())\n",
    "            current_list.clear()\n",
    "            current_list.append(row)\n",
    "        \n",
    "    else:\n",
    "        current_list.append(row)\n",
    "        \n",
    "    last_time = current_time\n",
    "    \n",
    "input_blocks.append(current_list.copy()) # add the list from the last block as well"
   ]
  },
  {
   "cell_type": "markdown",
   "id": "systematic-morocco",
   "metadata": {},
   "source": [
    "# H - Operator"
   ]
  },
  {
   "cell_type": "code",
   "execution_count": 4,
   "id": "bulgarian-concert",
   "metadata": {},
   "outputs": [
    {
     "name": "stdout",
     "output_type": "stream",
     "text": [
      "Hovering times between mouse and keyboard in milliseconds:\n",
      "Mean: 1409.42225\n",
      "Median: 994.27\n",
      "Max: 3921.998\n",
      "Min: 484.06100000000004\n"
     ]
    }
   ],
   "source": [
    "last_timestamp = None\n",
    "last_row = None\n",
    "hover_delta_list = []\n",
    "\n",
    "for block in input_blocks:\n",
    "    for row in block:\n",
    "        if last_timestamp is None:\n",
    "            last_timestamp = datetime.strptime(row[1]['timestamp'], \"%Y-%m-%d %H:%M:%S.%f\")\n",
    "            last_row = row\n",
    "            continue\n",
    "            \n",
    "        else:\n",
    "            current_timestamp = datetime.strptime(row[1]['timestamp'], \"%Y-%m-%d %H:%M:%S.%f\")\n",
    "            \n",
    "            if last_row[1]['input_type'] != row[1]['input_type']:\n",
    "                hover_delta_list.append((current_timestamp - last_timestamp).total_seconds() * 1000)\n",
    "            \n",
    "            last_timestamp = current_timestamp\n",
    "    \n",
    "    last_timestamp = None\n",
    "    last_row = None\n",
    "  \n",
    "print(\"Hovering times between mouse and keyboard in milliseconds:\")\n",
    "print(\"Mean: \" + str(stats.mean(hover_delta_list)))\n",
    "print(\"Median: \" + str(stats.median(hover_delta_list)))\n",
    "print(\"Max: \" + str(max(hover_delta_list)))\n",
    "print(\"Min: \" + str(min(hover_delta_list)))"
   ]
  },
  {
   "cell_type": "markdown",
   "id": "compound-envelope",
   "metadata": {},
   "source": [
    "# K - Operator"
   ]
  },
  {
   "cell_type": "markdown",
   "id": "secure-candy",
   "metadata": {},
   "source": [
    "## Keyboard"
   ]
  },
  {
   "cell_type": "code",
   "execution_count": 5,
   "id": "fresh-commons",
   "metadata": {},
   "outputs": [
    {
     "name": "stdout",
     "output_type": "stream",
     "text": [
      "Mean keyboard K in ms: 334.3808\n",
      "Median keyboard K in ms: 248.72\n",
      "Max keyboard K in ms: 1494.9920000000002\n",
      "Min keyboard K in ms: 44.016\n"
     ]
    }
   ],
   "source": [
    "keyboard_logs = input_blocks[0]\n",
    "keyboard_logs_split = []\n",
    "\n",
    "keyboard_k_delta_list = []\n",
    "\n",
    "last_timestamp = None\n",
    "\n",
    "# First, separate the keyboard inputs further into blocks for each task\n",
    "# This is done in order to exclude the mental time required to read and process the new task block\n",
    "temp_keyboard_list = []\n",
    "for log in keyboard_logs:\n",
    "    temp_keyboard_list.append(log)\n",
    "    \n",
    "    if log[1]['key'] == 'Evaluate':\n",
    "        keyboard_logs_split.append(temp_keyboard_list.copy())\n",
    "        temp_keyboard_list.clear()\n",
    "\n",
    "# Write all time deltas between keypresses into a list\n",
    "for block in keyboard_logs_split:\n",
    "    for log in block:\n",
    "        if last_timestamp is None:\n",
    "            last_timestamp = datetime.strptime(log[1]['timestamp'], \"%Y-%m-%d %H:%M:%S.%f\")\n",
    "            continue\n",
    "\n",
    "        current_timestamp = datetime.strptime(log[1]['timestamp'], \"%Y-%m-%d %H:%M:%S.%f\")\n",
    "        \n",
    "        # Append to list as time in ms\n",
    "        keyboard_k_delta_list.append((current_timestamp - last_timestamp).total_seconds() * 1000)\n",
    "\n",
    "        last_timestamp = current_timestamp\n",
    "    \n",
    "    last_timestamp = None\n",
    "    \n",
    "print(\"Mean keyboard K in ms: \" + str(stats.mean(keyboard_k_delta_list)))\n",
    "print(\"Median keyboard K in ms: \" + str(stats.median(keyboard_k_delta_list)))\n",
    "print(\"Max keyboard K in ms: \" + str(max(keyboard_k_delta_list)))\n",
    "print(\"Min keyboard K in ms: \" + str(min(keyboard_k_delta_list)))"
   ]
  },
  {
   "cell_type": "markdown",
   "id": "vocational-planning",
   "metadata": {},
   "source": [
    "# P and B Operators"
   ]
  },
  {
   "cell_type": "markdown",
   "id": "legal-premiere",
   "metadata": {},
   "source": [
    "Since our calculator can only measure times between button presses, we cannot measure P (pointing) and B (mouse button press/release) separately. In our tasks every P is followed by BB (button down and button up). We are assuming B to be at 100ms and calculate P dependant on that."
   ]
  },
  {
   "cell_type": "code",
   "execution_count": 6,
   "id": "wired-actress",
   "metadata": {},
   "outputs": [
    {
     "name": "stdout",
     "output_type": "stream",
     "text": [
      "Mean P in ms: 585.3735357142857\n",
      "Median P in ms: 452.18850000000003\n",
      "Max P in ms: 1532.8220000000001\n",
      "Min P in ms: 136.015\n"
     ]
    }
   ],
   "source": [
    "mouse_logs = input_blocks[1].copy()\n",
    "mouse_logs_split = []\n",
    "\n",
    "mouse_delta_list = []\n",
    "\n",
    "last_timestamp = None\n",
    "\n",
    "B_TIME = 100\n",
    "BB_TIME = 200  # 100ms time for button down / button up respectively\n",
    "bb_delta = timedelta(milliseconds=BB_TIME)\n",
    "\n",
    "temp_mouse_list = []\n",
    "last_key = \"\"\n",
    "skip_counter = 0\n",
    "\n",
    "# First, separate the mouse inputs further into blocks for each task\n",
    "# This is done in order to exclude the mental time required to read and process the new task block\n",
    "# Additionally, if the same key is pressed multiple times in a row, the time is excluded, since no further\n",
    "# pointing is required.\n",
    "# In this case, the time needed for the mouse click (BB) is \"refunded\"\n",
    "for log in mouse_logs:\n",
    "    log_copy = log  # use a copy of the tuple in order to not change the original\n",
    "    log = None\n",
    "    if last_key == log_copy[1]['key']:\n",
    "        skip_counter += 1\n",
    "        continue\n",
    "        \n",
    "    adjusted_timestamp = datetime.strptime(log_copy[1]['timestamp'], \"%Y-%m-%d %H:%M:%S.%f\") \n",
    "    - (skip_counter * bb_delta)\n",
    "    log_copy[1]['timestamp'] = adjusted_timestamp\n",
    "    temp_mouse_list.append(log_copy)\n",
    "    last_key = log_copy[1]['key']\n",
    "    skip_counter = 0\n",
    "    \n",
    "    if log_copy[1]['key'] == 'Evaluate':\n",
    "        mouse_logs_split.append(temp_mouse_list.copy())\n",
    "        temp_mouse_list.clear()\n",
    "\n",
    "# Write all time deltas between keypresses into a list\n",
    "for block in mouse_logs_split:\n",
    "    for log in block:\n",
    "        if last_timestamp is None:\n",
    "            last_timestamp = log[1]['timestamp']\n",
    "            continue\n",
    "\n",
    "        current_timestamp = log[1]['timestamp']\n",
    "        \n",
    "        # Append to list as time in ms\n",
    "        mouse_delta_list.append((current_timestamp - last_timestamp).total_seconds() * 1000 - BB_TIME)\n",
    "\n",
    "        last_timestamp = current_timestamp\n",
    "    \n",
    "    last_timestamp = None\n",
    "    \n",
    "print(\"Mean P in ms: \" + str(stats.mean(mouse_delta_list)))\n",
    "print(\"Median P in ms: \" + str(stats.median(mouse_delta_list)))\n",
    "print(\"Max P in ms: \" + str(max(mouse_delta_list)))\n",
    "print(\"Min P in ms: \" + str(min(mouse_delta_list)))"
   ]
  },
  {
   "cell_type": "markdown",
   "id": "welsh-satin",
   "metadata": {},
   "source": [
    "# M - Operator"
   ]
  },
  {
   "cell_type": "markdown",
   "id": "unlike-attack",
   "metadata": {},
   "source": [
    "For the M - Operator, we assume the time needed for reading and processing a new input block from our task list. This can be determined by looking at the time difference between pressing the \"=\" button (end of an input block) and the next button press (beginning of a new input block)"
   ]
  },
  {
   "cell_type": "code",
   "execution_count": 7,
   "id": "pacific-kenya",
   "metadata": {},
   "outputs": [
    {
     "name": "stdout",
     "output_type": "stream",
     "text": [
      "Mean M in ms: 5536.665625000001\n",
      "Median M in ms: 2657.5905000000002\n",
      "Max M in ms: 16696.469\n",
      "Min M in ms: 831.923\n"
     ]
    }
   ],
   "source": [
    "evaluate_timestamp = None\n",
    "next_block_timestamp = None\n",
    "\n",
    "m_delta_list = []\n",
    "\n",
    "for block in input_blocks:\n",
    "    for log in block:\n",
    "        if evaluate_timestamp is not None:\n",
    "            \n",
    "            if isinstance(log[1]['timestamp'], datetime):\n",
    "                m_delta_list.append((log[1]['timestamp']\n",
    "                               - datetime.strptime(evaluate_timestamp, \"%Y-%m-%d %H:%M:%S.%f\"))\n",
    "                                    .total_seconds() * 1000)\n",
    "            else:\n",
    "                m_delta_list.append((datetime.strptime(log[1]['timestamp'], \"%Y-%m-%d %H:%M:%S.%f\")\n",
    "                                   - datetime.strptime(evaluate_timestamp, \"%Y-%m-%d %H:%M:%S.%f\"))\n",
    "                                    .total_seconds() * 1000)\n",
    "            evaluate_timestamp = None\n",
    "            \n",
    "        if log[1]['key'] == 'Evaluate':\n",
    "            evaluate_timestamp = str(log[1]['timestamp'])\n",
    "            \n",
    "print(\"Mean M in ms: \" + str(stats.mean(m_delta_list)))\n",
    "print(\"Median M in ms: \" + str(stats.median(m_delta_list)))\n",
    "print(\"Max M in ms: \" + str(max(m_delta_list)))\n",
    "print(\"Min M in ms: \" + str(min(m_delta_list)))\n",
    "            \n",
    "    "
   ]
  },
  {
   "cell_type": "markdown",
   "id": "unlikely-infrared",
   "metadata": {},
   "source": [
    "# Summary"
   ]
  },
  {
   "cell_type": "code",
   "execution_count": 8,
   "id": "adequate-throat",
   "metadata": {},
   "outputs": [
    {
     "name": "stdout",
     "output_type": "stream",
     "text": [
      "All times are given in ms\n",
      "\n",
      "K: 248.72\n",
      "P: 452.18850000000003\n",
      "H: 994.27\n",
      "M: 2657.5905000000002\n",
      "B: 100 (assumed as constant)\n",
      "D: not applicable\n"
     ]
    }
   ],
   "source": [
    "print(\"All times are given in ms\\n\")\n",
    "print(\"K: \" + str(stats.median(keyboard_k_delta_list)))\n",
    "print(\"P: \" + str(stats.median(mouse_delta_list)))\n",
    "print(\"H: \" + str(stats.median(hover_delta_list)))\n",
    "print(\"M: \" + str(stats.median(m_delta_list)))\n",
    "print(\"B: \" + str(B_TIME) + \" (assumed as constant)\")\n",
    "print(\"D: not applicable\" )"
   ]
  }
 ],
 "metadata": {
  "kernelspec": {
   "display_name": "Python 3",
   "language": "python",
   "name": "python3"
  },
  "language_info": {
   "codemirror_mode": {
    "name": "ipython",
    "version": 3
   },
   "file_extension": ".py",
   "mimetype": "text/x-python",
   "name": "python",
   "nbconvert_exporter": "python",
   "pygments_lexer": "ipython3",
   "version": "3.9.2"
  }
 },
 "nbformat": 4,
 "nbformat_minor": 5
}
