{
 "cells": [
  {
   "cell_type": "code",
   "execution_count": 39,
   "id": "polyphonic-interstate",
   "metadata": {},
   "outputs": [],
   "source": [
    "import pandas as pd\n",
    "from datetime import datetime"
   ]
  },
  {
   "cell_type": "code",
   "execution_count": 40,
   "id": "grateful-infection",
   "metadata": {},
   "outputs": [
    {
     "data": {
      "text/html": [
       "<div>\n",
       "<style scoped>\n",
       "    .dataframe tbody tr th:only-of-type {\n",
       "        vertical-align: middle;\n",
       "    }\n",
       "\n",
       "    .dataframe tbody tr th {\n",
       "        vertical-align: top;\n",
       "    }\n",
       "\n",
       "    .dataframe thead th {\n",
       "        text-align: right;\n",
       "    }\n",
       "</style>\n",
       "<table border=\"1\" class=\"dataframe\">\n",
       "  <thead>\n",
       "    <tr style=\"text-align: right;\">\n",
       "      <th></th>\n",
       "      <th>timestamp</th>\n",
       "      <th>key</th>\n",
       "      <th>input_type</th>\n",
       "    </tr>\n",
       "  </thead>\n",
       "  <tbody>\n",
       "    <tr>\n",
       "      <th>0</th>\n",
       "      <td>2021-05-22 17:51:27.063842</td>\n",
       "      <td>5</td>\n",
       "      <td>KEYBOARD</td>\n",
       "    </tr>\n",
       "    <tr>\n",
       "      <th>1</th>\n",
       "      <td>2021-05-22 17:51:27.184179</td>\n",
       "      <td>6</td>\n",
       "      <td>KEYBOARD</td>\n",
       "    </tr>\n",
       "    <tr>\n",
       "      <th>2</th>\n",
       "      <td>2021-05-22 17:51:27.758680</td>\n",
       "      <td>*</td>\n",
       "      <td>KEYBOARD</td>\n",
       "    </tr>\n",
       "    <tr>\n",
       "      <th>3</th>\n",
       "      <td>2021-05-22 17:51:28.437248</td>\n",
       "      <td>4</td>\n",
       "      <td>KEYBOARD</td>\n",
       "    </tr>\n",
       "    <tr>\n",
       "      <th>4</th>\n",
       "      <td>2021-05-22 17:51:28.723428</td>\n",
       "      <td>2</td>\n",
       "      <td>KEYBOARD</td>\n",
       "    </tr>\n",
       "    <tr>\n",
       "      <th>...</th>\n",
       "      <td>...</td>\n",
       "      <td>...</td>\n",
       "      <td>...</td>\n",
       "    </tr>\n",
       "    <tr>\n",
       "      <th>87</th>\n",
       "      <td>2021-05-22 17:52:57.338106</td>\n",
       "      <td>5</td>\n",
       "      <td>BUTTON</td>\n",
       "    </tr>\n",
       "    <tr>\n",
       "      <th>88</th>\n",
       "      <td>2021-05-22 17:52:57.524092</td>\n",
       "      <td>Evaluate</td>\n",
       "      <td>KEYBOARD</td>\n",
       "    </tr>\n",
       "    <tr>\n",
       "      <th>89</th>\n",
       "      <td>2021-05-22 17:53:00.112729</td>\n",
       "      <td>+</td>\n",
       "      <td>BUTTON</td>\n",
       "    </tr>\n",
       "    <tr>\n",
       "      <th>90</th>\n",
       "      <td>2021-05-22 17:53:00.663068</td>\n",
       "      <td>3</td>\n",
       "      <td>BUTTON</td>\n",
       "    </tr>\n",
       "    <tr>\n",
       "      <th>91</th>\n",
       "      <td>2021-05-22 17:53:01.254844</td>\n",
       "      <td>Evaluate</td>\n",
       "      <td>BUTTON</td>\n",
       "    </tr>\n",
       "  </tbody>\n",
       "</table>\n",
       "<p>92 rows × 3 columns</p>\n",
       "</div>"
      ],
      "text/plain": [
       "                     timestamp       key input_type\n",
       "0   2021-05-22 17:51:27.063842         5   KEYBOARD\n",
       "1   2021-05-22 17:51:27.184179         6   KEYBOARD\n",
       "2   2021-05-22 17:51:27.758680         *   KEYBOARD\n",
       "3   2021-05-22 17:51:28.437248         4   KEYBOARD\n",
       "4   2021-05-22 17:51:28.723428         2   KEYBOARD\n",
       "..                         ...       ...        ...\n",
       "87  2021-05-22 17:52:57.338106         5     BUTTON\n",
       "88  2021-05-22 17:52:57.524092  Evaluate   KEYBOARD\n",
       "89  2021-05-22 17:53:00.112729         +     BUTTON\n",
       "90  2021-05-22 17:53:00.663068         3     BUTTON\n",
       "91  2021-05-22 17:53:01.254844  Evaluate     BUTTON\n",
       "\n",
       "[92 rows x 3 columns]"
      ]
     },
     "metadata": {},
     "output_type": "display_data"
    }
   ],
   "source": [
    "df = pd.read_csv('calc_logs.csv')\n",
    "display(df)"
   ]
  },
  {
   "cell_type": "code",
   "execution_count": 42,
   "id": "tender-satellite",
   "metadata": {},
   "outputs": [
    {
     "name": "stdout",
     "output_type": "stream",
     "text": [
      "3\n"
     ]
    }
   ],
   "source": [
    "# here we separate all inputs from the csv into the \"blocks\" in which they happened\n",
    "# this is done by grouping all inputs with a delay of less than 5 seconds together\n",
    "\n",
    "input_blocks = [] # list of lists - holds the separate chains of inputs\n",
    "last_time = datetime.min\n",
    "start_row = None\n",
    "current_list = []\n",
    "\n",
    "for row in df.iterrows():\n",
    "    current_time = row[1]['timestamp']\n",
    "    \n",
    "    if start_row == None:\n",
    "        start_row = row\n",
    "        \n",
    "    current_time = datetime.strptime(current_time, \"%Y-%m-%d %H:%M:%S.%f\")\n",
    "        \n",
    "    timedelta = current_time - last_time\n",
    "    \n",
    "    if timedelta.seconds > 5:\n",
    "        input_blocks.append(current_list.copy())\n",
    "        current_list.clear()\n",
    "        current_list.append(row)\n",
    "        \n",
    "    else:\n",
    "        current_list.append(row)\n",
    "        \n",
    "    last_time = current_time"
   ]
  },
  {
   "cell_type": "markdown",
   "id": "systematic-morocco",
   "metadata": {},
   "source": [
    "Time to get some details"
   ]
  },
  {
   "cell_type": "code",
   "execution_count": 58,
   "id": "bulgarian-concert",
   "metadata": {},
   "outputs": [
    {
     "name": "stdout",
     "output_type": "stream",
     "text": [
      "Hovering times between mouse and keyboard in milliseconds:\n",
      "1332.664\n",
      "668.396\n",
      "547.197\n",
      "445.941\n",
      "952.203\n",
      "1663.791\n",
      "419.35\n",
      "382.747\n",
      "1052.072\n",
      "462.409\n",
      "716.037\n"
     ]
    }
   ],
   "source": [
    "last_timestamp = None\n",
    "last_row = None\n",
    "hover_delta_list = []\n",
    "\n",
    "for block in input_blocks:\n",
    "    for row in block:\n",
    "        if last_timestamp == None:\n",
    "            last_timestamp = datetime.strptime(row[1]['timestamp'], \"%Y-%m-%d %H:%M:%S.%f\")\n",
    "            last_row = row\n",
    "            continue\n",
    "            \n",
    "        else:\n",
    "            current_timestamp = datetime.strptime(row[1]['timestamp'], \"%Y-%m-%d %H:%M:%S.%f\")\n",
    "            \n",
    "            if last_row[1]['input_type'] != row[1]['input_type']:\n",
    "                hover_delta_list.append(current_timestamp - last_timestamp)\n",
    "            \n",
    "            last_timestamp = current_timestamp\n",
    "    \n",
    "    last_timestamp = None\n",
    "    last_row = None\n",
    "  \n",
    "print(\"Hovering times between mouse and keyboard in milliseconds:\")\n",
    "for delta in hover_delta_list:\n",
    "    print(delta.total_seconds() * 1000)"
   ]
  },
  {
   "cell_type": "code",
   "execution_count": null,
   "id": "major-honor",
   "metadata": {},
   "outputs": [],
   "source": []
  }
 ],
 "metadata": {
  "kernelspec": {
   "display_name": "Python 3",
   "language": "python",
   "name": "python3"
  },
  "language_info": {
   "codemirror_mode": {
    "name": "ipython",
    "version": 3
   },
   "file_extension": ".py",
   "mimetype": "text/x-python",
   "name": "python",
   "nbconvert_exporter": "python",
   "pygments_lexer": "ipython3",
   "version": "3.9.2"
  }
 },
 "nbformat": 4,
 "nbformat_minor": 5
}
