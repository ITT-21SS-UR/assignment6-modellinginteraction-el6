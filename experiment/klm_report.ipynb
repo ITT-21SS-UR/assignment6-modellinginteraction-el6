{
 "cells": [
  {
   "cell_type": "markdown",
   "id": "committed-antique",
   "metadata": {},
   "source": [
    "# Prediction and verifying task completion times"
   ]
  },
  {
   "cell_type": "markdown",
   "id": "separate-blood",
   "metadata": {},
   "source": [
    "## Introduction\n",
    "In this study, we predict the completion times for four tasks using the KLM method and verify them by experiments. \n",
    "For the prediction we use on the one hand the times defined by Card, Moran and Newell (1980) and on the other hand also the times determined by ourselves in an earlier experiment. "
   ]
  },
  {
   "cell_type": "markdown",
   "id": "determined-irish",
   "metadata": {},
   "source": [
    "## Test design\n",
    "For this study, a previously programmed calculator was used to log all relevant inputs with timestamps to obtain the task completion time. Participants are presented with the calculator in their normal work environment on their home computers. One after the other, four predefined tasks are presented concerning the use of the calculator. To get a range of times each experiment is repeated five times. \n",
    "After each task, the associated csv file is saved separately for later analysis."
   ]
  },
  {
   "cell_type": "markdown",
   "id": "missing-multiple",
   "metadata": {},
   "source": [
    "## Tasks and Predicitons\n",
    "The following four tasks are given to the participants:\n",
    "\n",
    "    T1)\tadding the numbers from 1 to 20 using only the mouse\n",
    "    T2)\tadding the numbers from 1 to 20 using only the keyboard\n",
    "    T3)\tcalculating the result of (3² + 4²) * 15.2 using only the mouse\n",
    "    T4)\tcalculating the result of (3² + 4²) * 15.2 using only the keyboard\n",
    " \n",
    "### Predictions\n",
    "Card et al.'s times for experienced users are used to predict task completion times, as well as the times we determined in previous studies. Following times are presented in milliseconds.\n",
    "\n",
    "Card et al.: K = 200, P = 1100, H = 400, M = 1200, B = 100\n",
    "\n",
    "Our own times: K = 248.7, P = 452.2, H = 994.3, M = 2657.6, B = 100\n",
    "\n",
    "For the following estimations we always assume that a task starts with pressing the first button and the task ends with the final calculation of the term by clicking the equal button.\n",
    "Since we assume that our subjects are experienced, the tasks are predefined and the time measurement only starts after the first button was pressed, we do not add any additional mental processes.\n",
    "\n",
    "    T1) The input corresponds to the expression „1+2+3+4+5+6+7+8+9+10+11+12+13+14+15+16+17+18+19+20=“. That means, there are 51 buttons to click and 51 - 2 pointing operators (for the number 11 it is not necessary to change the cursor position between the first and the second digit and it is not necessary to point to the first number of the task)\n",
    "    \n",
    "        Operators: 51B51B49P\n",
    "        Estimation according to the literature for experienced users: 64100 ms\n",
    "        Estimation according to own test results: 32357.8 ms\n",
    "    \n",
    "    T2) The input corresponds to the expression „1+2+3+4+5+6+7+8+9+10+11+12+13+14+15+16+17+18+19+20=“. That means, there are 51 keystrokes.\n",
    "    \n",
    "        Operators: 51K\n",
    "        Estimation according to the literature for experienced users: 10200 ms\n",
    "        Estimation according to own test results: 12683.7 ms\n",
    "    \n",
    "    T3) Since the calculator used does not support squaring or parentheses, the specification is equivalent to entering the following expression: “3*3+4*4=*15.2=”. This means that for the expression 14 buttons must be clicked and the mouse pointer must be moved 14-1 times (it is not necessary to point to the first number of the task).\n",
    "    \n",
    "        Operators: 14B14B13P\n",
    "        Estimation according to the literature for experienced users: 17100 ms\n",
    "        Estimation according to own test results: 8678.6 ms\n",
    "\n",
    "    T4) Since the calculator used does not support squaring or parentheses, the specification is equivalent to entering the following expression: \"3*3+4*4=*15.2=”. Since the multiplication sign requires not only one keystroke but two (at the same time capital key), 17 keystrokes are necessary.\n",
    "    \n",
    "        Operators: 17K\n",
    "        Estimation according to the literature for experienced users: 3400 ms\n",
    "        Estimation according to own test results: 4227.9 ms\n"
   ]
  },
  {
   "cell_type": "markdown",
   "id": "magnetic-basketball",
   "metadata": {},
   "source": [
    "## Variables\n",
    "The independent variable of this study is the task performed. The dependent variable is the task completion time.\n",
    "\n",
    "To minimize confounding factors, the experiment is conducted in the participants' familiar environment with their own hardware. In addition, care is taken to conduct the tests at a suitable, quiet moment. Notifications on the notebook as well as on the smartphone are muted. "
   ]
  },
  {
   "cell_type": "markdown",
   "id": "associate-trigger",
   "metadata": {},
   "source": [
    "## Participants\n",
    "The experiment was performed on two subjects. Due to the pandemic situation, it is not that easy to recruit study participants. Since it is necessary to run a Python program on a Linux machine for the trial, we decided to test ourselves. \n",
    "As a result, one man and one woman were tested each. The average age of the test subjects is 28 years. Both test subjects are master students of media informatics at the University of Regensburg and used to work with mouse and keyboard on the computer."
   ]
  },
  {
   "cell_type": "markdown",
   "id": "continent-boring",
   "metadata": {},
   "source": [
    "## Logging"
   ]
  },
  {
   "cell_type": "markdown",
   "id": "bearing-somewhere",
   "metadata": {},
   "source": [
    "During the experiment, the start of the experiment was logged when the users pressed the first button on the calculator. The end of a task was logged when the user presses the \"Clear All\" button and therefore starts a new segment. However, this \"end\" log entry uses the timestamp of the last previous button press, i.e. the last button used for the actual task, since the \"Clear All\" button is not part of our task description. The participants were instructed to clear the input after each task segment, and told that this does not contribute to the measured values."
   ]
  },
  {
   "cell_type": "markdown",
   "id": "appointed-shooting",
   "metadata": {},
   "source": [
    "## Presentations of the results"
   ]
  },
  {
   "cell_type": "markdown",
   "id": "sharp-validity",
   "metadata": {},
   "source": [
    "In the following, the experiment data are first prepared for evaluation. The individual tasks are initially shown in a comparative figure. These are supplemented in another figure by the predicted values to highlight the differences between the predicted and actual performance. Finally, additional statistical values are calculated for the individual tasks."
   ]
  },
  {
   "cell_type": "markdown",
   "id": "destroyed-inspection",
   "metadata": {},
   "source": [
    "### Preparations"
   ]
  },
  {
   "cell_type": "code",
   "execution_count": 1,
   "id": "russian-kingdom",
   "metadata": {},
   "outputs": [],
   "source": [
    "# imports\n",
    "import pandas as pd # data mangling\n",
    "import matplotlib\n",
    "from matplotlib import pyplot as plt\n",
    "import sys\n",
    "import datetime\n",
    "import numpy as np\n",
    "import seaborn as sns\n",
    "import statistics as stats"
   ]
  },
  {
   "cell_type": "code",
   "execution_count": 2,
   "id": "meaning-yesterday",
   "metadata": {},
   "outputs": [],
   "source": [
    "# read all csv files to dataframes\n",
    "\n",
    "task1_lj = pd.read_csv('task1_lj.csv')\n",
    "task2_lj = pd.read_csv('task2_lj.csv')\n",
    "task3_lj = pd.read_csv('task3_lj.csv')\n",
    "task4_lj = pd.read_csv('task4_lj.csv')\n",
    "task1_ev = pd.read_csv('task1_ev.csv')\n",
    "task2_ev = pd.read_csv('task2_ev.csv')\n",
    "task3_ev = pd.read_csv('task3_ev.csv')\n",
    "task4_ev = pd.read_csv('task4_ev.csv')"
   ]
  },
  {
   "cell_type": "code",
   "execution_count": 3,
   "id": "virgin-merchandise",
   "metadata": {},
   "outputs": [],
   "source": [
    "# concat csv files of same tasks\n",
    "\n",
    "df_task1 = pd.concat([task1_lj, task1_ev], ignore_index=True, sort=False)\n",
    "df_task2 = pd.concat([task2_lj, task2_ev], ignore_index=True, sort=False)\n",
    "df_task3 = pd.concat([task3_lj, task3_ev], ignore_index=True, sort=False)\n",
    "df_task4 = pd.concat([task4_lj, task4_ev], ignore_index=True, sort=False)"
   ]
  },
  {
   "cell_type": "code",
   "execution_count": 4,
   "id": "infrared-skiing",
   "metadata": {},
   "outputs": [],
   "source": [
    "# dictionaries of estimated times\n",
    "TASK_ESTIMATES = {\"Task 1\" : 32.3578, \"Task 2\": 12.6837, \"Task 3\": 8.6786, \"Task 4\": 4.2279}\n",
    "TASK_LITERATURE_ESTIMATES = {\"Task 1\": 64.100, \"Task 2\": 10.200, \"Task 3\": 17.100, \"Task 4\": 3.400}"
   ]
  },
  {
   "cell_type": "markdown",
   "id": "proprietary-kingston",
   "metadata": {},
   "source": [
    "### Side by side visualization"
   ]
  },
  {
   "cell_type": "code",
   "execution_count": 5,
   "id": "painted-sending",
   "metadata": {},
   "outputs": [],
   "source": [
    "# Array of all start and end times\n",
    "start_times_task1 = pd.to_datetime(df_task1[(df_task1['key'] == 'EXPERIMENT_START')]['timestamp']).tolist()\n",
    "end_times_task1 = pd.to_datetime(df_task1[(df_task1['key'] == 'EXPERIMENT_END')]['timestamp']).tolist()\n",
    "\n",
    "\n",
    "start_times_task2 = pd.to_datetime(df_task2[(df_task2['key'] == 'EXPERIMENT_START')]['timestamp']).tolist()\n",
    "end_times_task2 = pd.to_datetime(df_task2[(df_task2['key'] == 'EXPERIMENT_END')]['timestamp']).tolist()\n",
    "\n",
    "start_times_task3 = pd.to_datetime(df_task3[(df_task3['key'] == 'EXPERIMENT_START')]['timestamp']).tolist()\n",
    "end_times_task3 = pd.to_datetime(df_task3[(df_task3['key'] == 'EXPERIMENT_END')]['timestamp']).tolist()\n",
    "\n",
    "start_times_task4 = pd.to_datetime(df_task4[(df_task4['key'] == 'EXPERIMENT_START')]['timestamp']).tolist()\n",
    "end_times_task4 = pd.to_datetime(df_task4[(df_task4['key'] == 'EXPERIMENT_END')]['timestamp']).tolist()\n",
    "\n",
    "task1_time_delta = []\n",
    "task2_time_delta = []\n",
    "task3_time_delta = []\n",
    "task4_time_delta = []\n",
    "\n",
    "# in order for this loop to work properly, all tasks need to have been completed an equal amount of times\n",
    "# if this throws an index out of bounds exception, check your logs or make separate loops for all tasks\n",
    "for x in range (len(start_times_task2)):\n",
    "    task1_time_delta.append(end_times_task1[x] - start_times_task1[x])\n",
    "    task2_time_delta.append(end_times_task2[x] - start_times_task2[x])\n",
    "    task3_time_delta.append(end_times_task3[x] - start_times_task3[x])\n",
    "    task4_time_delta.append(end_times_task4[x] - start_times_task4[x])\n",
    "    \n"
   ]
  },
  {
   "cell_type": "code",
   "execution_count": 6,
   "id": "christian-marketplace",
   "metadata": {},
   "outputs": [
    {
     "data": {
      "image/png": "[encoded data removed]",
      "text/plain": [
       "<Figure size 432x288 with 1 Axes>"
      ]
     },
     "metadata": {
      "needs_background": "light"
     },
     "output_type": "display_data"
    }
   ],
   "source": [
    "# prepare a DataFrame that holds the task number, and the time taken\n",
    "df_all_tasks_delta = pd.DataFrame(columns=[\"task\", \"time_taken_in_s\", \"is_estimate\"])\n",
    "\n",
    "# append all values from the time delta dataframes and assign them their respective task\n",
    "for time in task1_time_delta:\n",
    "    df_all_tasks_delta = df_all_tasks_delta.append({\n",
    "        'task': \"Task 1\",\n",
    "        'time_taken_in_s': time.total_seconds(),\n",
    "        'is_estimate': False\n",
    "    }, ignore_index=True)\n",
    "    \n",
    "for time in task2_time_delta:\n",
    "    df_all_tasks_delta = df_all_tasks_delta.append({\n",
    "        'task': \"Task 2\",\n",
    "        'time_taken_in_s': time.total_seconds(),\n",
    "        'is_estimate': False\n",
    "    }, ignore_index=True)\n",
    "    \n",
    "for time in task3_time_delta:\n",
    "    df_all_tasks_delta = df_all_tasks_delta.append({\n",
    "        'task': \"Task 3\",\n",
    "        'time_taken_in_s': time.total_seconds(),\n",
    "        'is_estimate': False\n",
    "    }, ignore_index=True)\n",
    "    \n",
    "for time in task4_time_delta:\n",
    "    df_all_tasks_delta = df_all_tasks_delta.append({\n",
    "        'task': \"Task 4\",\n",
    "        'time_taken_in_s': time.total_seconds(),\n",
    "        'is_estimate': False\n",
    "    }, ignore_index=True)\n",
    "\n",
    "plot = sns.boxplot(\n",
    "    data = df_all_tasks_delta,\n",
    "    x = 'task',\n",
    "    y = 'time_taken_in_s'\n",
    ")\n",
    "plot.set(xlabel = \"Task\", ylabel = \"Time taken in seconds\")\n",
    "\n",
    "plt.show()"
   ]
  },
  {
   "cell_type": "markdown",
   "id": "systematic-nashville",
   "metadata": {},
   "source": [
    "### Visualizations highlighting the difference between estimates and actual performance"
   ]
  },
  {
   "cell_type": "code",
   "execution_count": 7,
   "id": "artificial-sentence",
   "metadata": {},
   "outputs": [],
   "source": [
    "df_all_tasks_estimates = pd.DataFrame([\"task\", \"time_taken_in_s\", \"is_literature_estimate\"])\n",
    "\n",
    "# iterate over the dictionaries and append the values to the DataFrame\n",
    "# is_literature_estimate uses Strings instead of booleans so the plot label does not misbehave afterwards\n",
    "for key in TASK_ESTIMATES:\n",
    "    df_all_tasks_estimates = df_all_tasks_estimates.append({\n",
    "        'task': key,\n",
    "        'time_taken_in_s': TASK_ESTIMATES[key],\n",
    "        'is_literature_estimate': \"False\"\n",
    "    }, ignore_index=True)\n",
    "\n",
    "for key in TASK_LITERATURE_ESTIMATES:\n",
    "    df_all_tasks_estimates = df_all_tasks_estimates.append({\n",
    "        'task': key,\n",
    "        'time_taken_in_s': TASK_LITERATURE_ESTIMATES[key],\n",
    "        'is_literature_estimate': \"True\"\n",
    "    }, ignore_index=True)"
   ]
  },
  {
   "cell_type": "code",
   "execution_count": 8,
   "id": "blessed-message",
   "metadata": {},
   "outputs": [
    {
     "data": {
      "image/png": "[encoded data removed]",
      "text/plain": [
       "<Figure size 432x288 with 1 Axes>"
      ]
     },
     "metadata": {
      "needs_background": "light"
     },
     "output_type": "display_data"
    }
   ],
   "source": [
    "ax = sns.stripplot(\n",
    "    data = df_all_tasks_estimates,\n",
    "    y = 'time_taken_in_s',\n",
    "    x = \"task\",\n",
    "    hue = \"is_literature_estimate\",\n",
    "    jitter=0.0,\n",
    "    color=\"red\"\n",
    ")\n",
    "\n",
    "ax.legend(title=\"Is Literature Estimate\")\n",
    "\n",
    "plot = sns.boxplot(\n",
    "    data = df_all_tasks_delta,\n",
    "    x = 'task',\n",
    "    y = 'time_taken_in_s',\n",
    "    ax=ax\n",
    ")\n",
    "\n",
    "plot.set(ylim=(0, 36))\n",
    "\n",
    "plt.show()"
   ]
  },
  {
   "cell_type": "markdown",
   "id": "northern-triple",
   "metadata": {},
   "source": [
    "Note for the figure above: Since the predicted literature time for Task 1 was 64.1 seconds, the datapoint is not included in the graph, in order to not shrink the boxplots too much."
   ]
  },
  {
   "cell_type": "markdown",
   "id": "early-panic",
   "metadata": {},
   "source": [
    "### Numeric stats"
   ]
  },
  {
   "cell_type": "code",
   "execution_count": 9,
   "id": "preceding-scheduling",
   "metadata": {},
   "outputs": [
    {
     "name": "stdout",
     "output_type": "stream",
     "text": [
      "All times below are in seconds (s)\n",
      "Task 1 mean: 22.1284606\n",
      "Task 1 median: 21.6071545\n",
      "Task 1 min: 15.947379\n",
      "Task 1 max: 31.89744\n",
      "\n",
      "\n",
      "Task 2 mean: 12.0933439\n",
      "Task 2 median: 11.7439585\n",
      "Task 2 min: 7.998183\n",
      "Task 2 max: 16.498976\n",
      "\n",
      "\n",
      "Task 3 mean: 6.937998\n",
      "Task 3 median: 7.274559999999999\n",
      "Task 3 min: 5.207564\n",
      "Task 3 max: 7.735133\n",
      "\n",
      "\n",
      "Task 4 mean: 5.1627457\n",
      "Task 4 median: 5.2057435000000005\n",
      "Task 4 min: 3.328764\n",
      "Task 4 max: 7.347561\n",
      "\n",
      "\n"
     ]
    }
   ],
   "source": [
    "task1_seconds = []\n",
    "task2_seconds = []\n",
    "task3_seconds = []\n",
    "task4_seconds = []\n",
    "\n",
    "for time in task1_time_delta:\n",
    "    task1_seconds.append(time.total_seconds())\n",
    "    \n",
    "for time in task2_time_delta:\n",
    "    task2_seconds.append(time.total_seconds())\n",
    "    \n",
    "for time in task3_time_delta:\n",
    "    task3_seconds.append(time.total_seconds())\n",
    "    \n",
    "for time in task4_time_delta:\n",
    "    task4_seconds.append(time.total_seconds())\n",
    "    \n",
    "mean = stats.mean(task1_seconds)\n",
    "median = stats.median(task1_seconds)\n",
    "minimum = min(task1_seconds)\n",
    "maximum = max(task1_seconds)\n",
    "\n",
    "print(\"All times below are in seconds (s)\")\n",
    "print(\"Task 1 mean: \" + str(stats.mean(task1_seconds)))\n",
    "print(\"Task 1 median: \" + str(stats.median(task1_seconds)))\n",
    "print(\"Task 1 min: \" + str(min(task1_seconds)))\n",
    "print(\"Task 1 max: \" + str(max(task1_seconds)) + \"\\n\\n\")\n",
    "\n",
    "print(\"Task 2 mean: \" + str(stats.mean(task2_seconds)))\n",
    "print(\"Task 2 median: \" + str(stats.median(task2_seconds)))\n",
    "print(\"Task 2 min: \" + str(min(task2_seconds)))\n",
    "print(\"Task 2 max: \" + str(max(task2_seconds)) + \"\\n\\n\")\n",
    "\n",
    "print(\"Task 3 mean: \" + str(stats.mean(task3_seconds)))\n",
    "print(\"Task 3 median: \" + str(stats.median(task3_seconds)))\n",
    "print(\"Task 3 min: \" + str(min(task3_seconds)))\n",
    "print(\"Task 3 max: \" + str(max(task3_seconds)) + \"\\n\\n\")\n",
    "\n",
    "print(\"Task 4 mean: \" + str(stats.mean(task4_seconds)))\n",
    "print(\"Task 4 median: \" + str(stats.median(task4_seconds)))\n",
    "print(\"Task 4 min: \" + str(min(task4_seconds)))\n",
    "print(\"Task 4 max: \" + str(max(task4_seconds)) + \"\\n\\n\")"
   ]
  },
  {
   "cell_type": "markdown",
   "id": "removable-thirty",
   "metadata": {},
   "source": [
    "## Results"
   ]
  },
  {
   "cell_type": "markdown",
   "id": "facial-square",
   "metadata": {},
   "source": [
    "In the following table, both the two predicted values and the mean of the experimental execution are shown for the individual tasks."
   ]
  },
  {
   "cell_type": "markdown",
   "id": "alike-relaxation",
   "metadata": {},
   "source": [
    "| Task | Literature estimate | Our estimate | Actual performance |\n",
    "| --- | --- | --- | --- |\n",
    "| Task 1 | 64100 ms | 32357.8 ms | 22128.5 ms |\n",
    "| Task 2 | 10200 ms | 12683.7 ms | 12093.3 ms |\n",
    "| Task 3 | 17100 ms | 8678.6 ms | 6938.0 ms |\n",
    "| Task 4 | 3400 ms | 4227.9 ms | 5162.7 ms |"
   ]
  },
  {
   "cell_type": "markdown",
   "id": "dependent-services",
   "metadata": {},
   "source": [
    "First of all, it can be noted that the tasks with mouse input have higher task completion times than the task with keyboard input, which applies to both the measured and the predicted values. This is due to the fact that clicking a button with the mouse is usually composed of two operators, whereas with the keyboard only one operator is necessary in our experiment setup. \n",
    "\n",
    "If we take a closer look at the two tasks with mouse input, i.e. Task 1 and 3, we see that the experimentally achieved value is visibly smaller than the two predicted values.\n",
    "It can be assumed that the pointing times in our experimental setup were smaller than estimated, since the participants were experienced and no large distances had to be covered during pointing.\n",
    "\n",
    "For Task 2, summing a given series of numbers with the keyboard, the experimental value ranks between the two predicted ones. However, the difference from the own predicted value is less than 600 ms, suggesting that the own estimate for the keystroke operator was very accurate.\n",
    "Also for Task 4, a given calculation was entered with the keyboard. Here, the lowest values of all tasks are generally achieved. However, in contrast to Task 2, the experimentally achieved value is 934.8 ms above the own predicted values."
   ]
  },
  {
   "cell_type": "markdown",
   "id": "further-skiing",
   "metadata": {},
   "source": [
    "## Discussion\n"
   ]
  },
  {
   "cell_type": "markdown",
   "id": "czech-symposium",
   "metadata": {},
   "source": [
    "\n",
    "As already mentioned, the results from Task 2 indicate that the own estimate of the keystroke operator is very accurate for this experiment, whereas the estimate of the pointing operator was probably too high. \n",
    "\n",
    "However, in order to substantiate these statements and to achieve more precise insights, further experiments are necessary. For example, the experiment can be conducted with an additional arithmetic task, which ranks in difficulty and recall between the arithmetic tasks used here.\n"
   ]
  }
 ],
 "metadata": {
  "kernelspec": {
   "display_name": "Python 3",
   "language": "python",
   "name": "python3"
  },
  "language_info": {
   "codemirror_mode": {
    "name": "ipython",
    "version": 3
   },
   "file_extension": ".py",
   "mimetype": "text/x-python",
   "name": "python",
   "nbconvert_exporter": "python",
   "pygments_lexer": "ipython3",
   "version": "3.9.2"
  }
 },
 "nbformat": 4,
 "nbformat_minor": 5
}
