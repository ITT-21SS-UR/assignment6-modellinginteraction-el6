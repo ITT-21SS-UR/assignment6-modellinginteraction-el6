{
 "cells": [
  {
   "cell_type": "code",
   "execution_count": 1,
   "id": "quiet-illness",
   "metadata": {},
   "outputs": [],
   "source": [
    "# imports\n",
    "import pandas as pd # data mangling\n",
    "import matplotlib\n",
    "from matplotlib import pyplot as plt\n",
    "import scipy\n",
    "import numpy as np\n",
    "import seaborn as sns"
   ]
  },
  {
   "cell_type": "code",
   "execution_count": 2,
   "id": "induced-brazil",
   "metadata": {},
   "outputs": [],
   "source": [
    "# read all csv files to dataframes\n",
    "\n",
    "task1_lj = pd.read_csv('task1_lj.csv')\n",
    "task2_lj = pd.read_csv('task2_lj.csv')\n",
    "task3_lj = pd.read_csv('task3_lj.csv')\n",
    "task4_lj = pd.read_csv('task4_lj.csv')\n",
    "task1_ev = pd.read_csv('task1_ev.csv')\n",
    "task2_ev = pd.read_csv('task2_ev.csv')\n",
    "task3_ev = pd.read_csv('task3_ev.csv')\n",
    "task4_ev = pd.read_csv('task4_ev.csv')"
   ]
  },
  {
   "cell_type": "code",
   "execution_count": 3,
   "id": "altered-bishop",
   "metadata": {},
   "outputs": [],
   "source": [
    "# concat csv files of same tasks\n",
    "\n",
    "df_task1 = pd.concat([task1_lj, task1_ev], ignore_index=True, sort=False)\n",
    "df_task2 = pd.concat([task2_lj, task2_ev], ignore_index=True, sort=False)\n",
    "df_task3 = pd.concat([task3_lj, task3_ev], ignore_index=True, sort=False)\n",
    "df_task4 = pd.concat([task4_lj, task4_ev], ignore_index=True, sort=False)"
   ]
  },
  {
   "cell_type": "code",
   "execution_count": 4,
   "id": "leading-cornell",
   "metadata": {},
   "outputs": [],
   "source": [
    "# estimated time constants\n",
    "\n",
    "TASK_1_ESTIMATE = 32.3578\n",
    "TASK_2_ESTIMATE = 12.6837\n",
    "TASK_3_ESTIMATE = 8.6786\n",
    "TASK_4_ESTIMATE = 4.2279\n",
    "\n",
    "TASK_1_LITERATURE_ESTIMATE = 64.100\n",
    "TASK_2_LITERATURE_ESTIMATE = 10.200\n",
    "TASK_3_LITERATURE_ESTIMATE = 17.100\n",
    "TASK_4_LITERATURE_ESTIMATE = 3.400\n",
    "\n",
    "TASK_ESTIMATES = {\"Task 1\" : 32.3578, \"Task 2\": 12.6837, \"Task 3\": 8.6786, \"Task 4\": 4.2279}\n",
    "TASK_LITERATURE_ESTIMATES = {\"Task 1\": 64.100, \"Task 2\": 10.200, \"Task 3\": 17.100, \"Task 4\": 3.400}"
   ]
  },
  {
   "cell_type": "markdown",
   "id": "legal-helen",
   "metadata": {},
   "source": [
    "# Task 1"
   ]
  },
  {
   "cell_type": "markdown",
   "id": "partial-cisco",
   "metadata": {},
   "source": [
    "Visualization example of a single task. I suggest we instead use the combined graph from the next section."
   ]
  },
  {
   "cell_type": "code",
   "execution_count": 5,
   "id": "forced-acceptance",
   "metadata": {},
   "outputs": [],
   "source": [
    "# Visualization of a single task\n",
    "\n",
    "# first, put all start and end times into an array\n",
    "start_times = pd.to_datetime(df_task1[(df_task1['key'] == 'EXPERIMENT_START')]['timestamp']).tolist()\n",
    "end_times = pd.to_datetime(df_task1[(df_task1['key'] == 'EXPERIMENT_END')]['timestamp']).tolist()\n",
    "\n",
    "task1_time_delta = []\n",
    "\n",
    "for x in range (len(start_times)):\n",
    "    task1_time_delta.append(end_times[x] - start_times[x])"
   ]
  },
  {
   "cell_type": "code",
   "execution_count": 6,
   "id": "steady-beatles",
   "metadata": {},
   "outputs": [
    {
     "data": {
      "image/png": "[encoded data removed]",
      "text/plain": [
       "<Figure size 432x288 with 1 Axes>"
      ]
     },
     "metadata": {
      "needs_background": "light"
     },
     "output_type": "display_data"
    }
   ],
   "source": [
    "df_task1_delta = pd.DataFrame(columns=[\"time_taken_in_s\", \"is_estimate\"])\n",
    "\n",
    "for time in task1_time_delta:\n",
    "    df_task1_delta = df_task1_delta.append({\n",
    "        'time_taken_in_s': time.total_seconds(),\n",
    "        'is_estimate': False\n",
    "    }, ignore_index=True)\n",
    "    \n",
    "df_task1_delta = df_task1_delta.append({\n",
    "        'time_taken_in_s': 32.3578,\n",
    "        'is_estimate': True\n",
    "    }, ignore_index=True)\n",
    "\n",
    "plot = sns.boxplot(\n",
    "    data = df_task1_delta,\n",
    "    y = 'time_taken_in_s'\n",
    ")\n",
    "plot.set(xlabel = \"Task 1\", ylabel = \"Time taken in seconds\")\n",
    "\n",
    "plt.show()"
   ]
  },
  {
   "cell_type": "markdown",
   "id": "responsible-inquiry",
   "metadata": {},
   "source": [
    "# Other tasks"
   ]
  },
  {
   "cell_type": "code",
   "execution_count": 7,
   "id": "secondary-technique",
   "metadata": {},
   "outputs": [],
   "source": [
    "# if we want \"single\" graphs for every task we can basically just copy & paste the code from Task 1 above\n",
    "# instead, we could plot a graph containing all 4 tasks for easy side to side comparison\n",
    "# to do that, we first need to get the time_deltas of all other tasks\n",
    "\n",
    "start_times_task2 = pd.to_datetime(df_task2[(df_task2['key'] == 'EXPERIMENT_START')]['timestamp']).tolist()\n",
    "end_times_task2 = pd.to_datetime(df_task2[(df_task2['key'] == 'EXPERIMENT_END')]['timestamp']).tolist()\n",
    "\n",
    "start_times_task3 = pd.to_datetime(df_task3[(df_task3['key'] == 'EXPERIMENT_START')]['timestamp']).tolist()\n",
    "end_times_task3 = pd.to_datetime(df_task3[(df_task3['key'] == 'EXPERIMENT_END')]['timestamp']).tolist()\n",
    "\n",
    "start_times_task4 = pd.to_datetime(df_task4[(df_task4['key'] == 'EXPERIMENT_START')]['timestamp']).tolist()\n",
    "end_times_task4 = pd.to_datetime(df_task4[(df_task4['key'] == 'EXPERIMENT_END')]['timestamp']).tolist()\n",
    "\n",
    "task2_time_delta = []\n",
    "task3_time_delta = []\n",
    "task4_time_delta = []\n",
    "\n",
    "# in order for this loop to work properly, all tasks need to have been completed an equal amount of times\n",
    "# if this throws an index out of bounds exception, check your logs or make separate loops for all tasks\n",
    "for x in range (len(start_times_task2)):\n",
    "    task2_time_delta.append(end_times_task2[x] - start_times_task2[x])\n",
    "    task3_time_delta.append(end_times_task3[x] - start_times_task3[x])\n",
    "    task4_time_delta.append(end_times_task4[x] - start_times_task4[x])"
   ]
  },
  {
   "cell_type": "markdown",
   "id": "marked-cooling",
   "metadata": {},
   "source": [
    "# Side by side comparison"
   ]
  },
  {
   "cell_type": "code",
   "execution_count": 8,
   "id": "fitted-reach",
   "metadata": {},
   "outputs": [
    {
     "data": {
      "image/png": "[encoded data removed]",
      "text/plain": [
       "<Figure size 432x288 with 1 Axes>"
      ]
     },
     "metadata": {
      "needs_background": "light"
     },
     "output_type": "display_data"
    }
   ],
   "source": [
    "# prepare a DataFrame that holds the task number, and the time taken\n",
    "df_all_tasks_delta = pd.DataFrame(columns=[\"task\", \"time_taken_in_s\", \"is_estimate\"])\n",
    "\n",
    "# append all values from the time delta dataframes and assign them their respective task\n",
    "for time in task1_time_delta:\n",
    "    df_all_tasks_delta = df_all_tasks_delta.append({\n",
    "        'task': \"Task 1\",\n",
    "        'time_taken_in_s': time.total_seconds(),\n",
    "        'is_estimate': False\n",
    "    }, ignore_index=True)\n",
    "    \n",
    "for time in task2_time_delta:\n",
    "    df_all_tasks_delta = df_all_tasks_delta.append({\n",
    "        'task': \"Task 2\",\n",
    "        'time_taken_in_s': time.total_seconds(),\n",
    "        'is_estimate': False\n",
    "    }, ignore_index=True)\n",
    "    \n",
    "for time in task3_time_delta:\n",
    "    df_all_tasks_delta = df_all_tasks_delta.append({\n",
    "        'task': \"Task 3\",\n",
    "        'time_taken_in_s': time.total_seconds(),\n",
    "        'is_estimate': False\n",
    "    }, ignore_index=True)\n",
    "    \n",
    "for time in task4_time_delta:\n",
    "    df_all_tasks_delta = df_all_tasks_delta.append({\n",
    "        'task': \"Task 4\",\n",
    "        'time_taken_in_s': time.total_seconds(),\n",
    "        'is_estimate': False\n",
    "    }, ignore_index=True)\n",
    "\n",
    "plot = sns.boxplot(\n",
    "    data = df_all_tasks_delta,\n",
    "    x = 'task',\n",
    "    y = 'time_taken_in_s'\n",
    ")\n",
    "plot.set(xlabel = \"Task\", ylabel = \"Time taken in seconds\")\n",
    "\n",
    "plt.show()"
   ]
  },
  {
   "cell_type": "markdown",
   "id": "considerable-thought",
   "metadata": {},
   "source": [
    "# Comparison with estimated times"
   ]
  },
  {
   "cell_type": "code",
   "execution_count": 11,
   "id": "persistent-shark",
   "metadata": {},
   "outputs": [],
   "source": [
    "# task 1\n",
    "\n",
    "df_all_tasks_estimates = pd.DataFrame([\"task\", \"time_taken_in_s\", \"is_literature_estimate\"])\n",
    "\n",
    "# iterate over the dictionaries and append the values to the DataFrame\n",
    "for key in TASK_ESTIMATES:\n",
    "    df_all_tasks_estimates = df_all_tasks_estimates.append({\n",
    "        'task': key,\n",
    "        'time_taken_in_s': TASK_ESTIMATES[key],\n",
    "        'is_literature_estimate': False\n",
    "    }, ignore_index=True)\n",
    "\n",
    "for key in TASK_LITERATURESTIMATES:\n",
    "    df_all_tasks_estimates = df_all_tasks_estimates.append({\n",
    "        'task': key,\n",
    "        'time_taken_in_s': TASK_ESTIMATES[key],\n",
    "        'is_literature_estimate': False\n",
    "    }, ignore_index=True)"
   ]
  },
  {
   "cell_type": "code",
   "execution_count": null,
   "id": "suffering-villa",
   "metadata": {},
   "outputs": [],
   "source": [
    "plot = sns.stripplot(\n",
    "    data = df_all_tasks_estimates,\n",
    "    y = 'time_taken_in_s',\n",
    "    x = \"task\",\n",
    "    hue = \"is_literature_estimate\"\n",
    ")"
   ]
  },
  {
   "cell_type": "code",
   "execution_count": null,
   "id": "clear-occurrence",
   "metadata": {},
   "outputs": [],
   "source": [
    "plot = sns.stripplot(\n",
    "    data = df_all_tasks_delta,\n",
    "    y = 'time_taken_in_s',\n",
    "    x = \"is_estimate\",\n",
    "    hue = \"task\"\n",
    ")"
   ]
  },
  {
   "cell_type": "code",
   "execution_count": null,
   "id": "unavailable-approval",
   "metadata": {},
   "outputs": [],
   "source": [
    "qualitative_colors = sns.color_palette(\"Set3\", 10)\n",
    "ax = sns.stripplot(\n",
    "    data = df_all_tasks_estimates,\n",
    "    y = 'time_taken_in_s',\n",
    "    x = \"task\",\n",
    "    hue = \"is_literature_estimate\",\n",
    "    color=\"red\"\n",
    ")\n",
    "\n",
    "plot = sns.boxplot(\n",
    "    data = df_all_tasks_delta,\n",
    "    x = 'task',\n",
    "    y = 'time_taken_in_s',\n",
    "    ax=ax\n",
    ")\n",
    "\n",
    "plot.set(ylim=(0, 36))\n",
    "\n",
    "plt.show()"
   ]
  },
  {
   "cell_type": "code",
   "execution_count": null,
   "id": "attached-duplicate",
   "metadata": {},
   "outputs": [],
   "source": []
  }
 ],
 "metadata": {
  "kernelspec": {
   "display_name": "Python 3",
   "language": "python",
   "name": "python3"
  },
  "language_info": {
   "codemirror_mode": {
    "name": "ipython",
    "version": 3
   },
   "file_extension": ".py",
   "mimetype": "text/x-python",
   "name": "python",
   "nbconvert_exporter": "python",
   "pygments_lexer": "ipython3",
   "version": "3.9.2"
  }
 },
 "nbformat": 4,
 "nbformat_minor": 5
}
