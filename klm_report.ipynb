{
 "cells": [
  {
   "cell_type": "markdown",
   "id": "committed-antique",
   "metadata": {},
   "source": [
    "# Prediction and verifying task completion times"
   ]
  },
  {
   "cell_type": "markdown",
   "id": "separate-blood",
   "metadata": {},
   "source": [
    "## Introduction\n",
    "In this study, we predict the completions times for four tasks using the KLM method and verify them by experiments. \n",
    "For the prediction we use on the one hand the times defined by Card, Moran and Newell (1980) but on the other hand also the times determined by ourselves in an earlier experiment. "
   ]
  },
  {
   "cell_type": "markdown",
   "id": "determined-irish",
   "metadata": {},
   "source": [
    "## Test design\n",
    "For this study, a previously programmed calculator was used to log all relevant inputs with timestamps to obtain the task completion time. Participants are presented with the pocket calculator in their normal work environment on their home computers. One after the other, four predefined tasks are presented concerning the use of the calculator. To get a range of times each experiment is repeated for 10 times. \n",
    "After each task, the associated csv file is saved separately for later analysis."
   ]
  },
  {
   "cell_type": "markdown",
   "id": "missing-multiple",
   "metadata": {},
   "source": [
    "## Tasks and Predicitons\n",
    "The following four tasks are given to the participants:\n",
    "\n",
    "    T1)\tadding the numbers from 1 to 20 using only the mouse\n",
    "    T2)\tadding the numbers from 1 to 20 using only the keyboard\n",
    "    T3)\tcalculating the result of (3² + 4²) * 15.2 using only the mouse\n",
    "    T4)\tcalculating the result of (3² + 4²) * 15.2 using only the keyboard\n",
    " \n",
    "### Predictions\n",
    "Card et al.'s times for experienced users are used to predict task completion times, as well as the times we determined in previous studies. Following times are presented in milliseconds.\n",
    "\n",
    "Card et al.: K = 200, P = 1100, H = 400, M = 1200, B = 100\n",
    "\n",
    "Our own times: K = 248.7, P = 452.2, H = 994.3, M = 2657.6, B = 100,\n",
    "\n",
    "    T1) The input corresponds to the expression „1+2+3+4+5+6+7+8+9+10+11+12+13+14+15+16+17+18+19+20=“. That means, there are 51 buttons to click and 51 - 1 pointing operators (for the number 11 you do not have to change cursor position between the first and second digit)\n",
    "    \n",
    "        Operators: 51B51B50P\n",
    "        Estimation according to the literature for experienced users: 65200 ms\n",
    "        Estimation according to own test results: 32810 ms\n",
    "    \n",
    "    T2) The input corresponds to the expression „1+2+3+4+5+6+7+8+9+10+11+12+13+14+15+16+17+18+19+20=“. That means, there are 51 keystrokes.\n",
    "    \n",
    "        Operators: 51K\n",
    "        Estimation according to the literature for experienced users: 10200 ms\n",
    "        Estimation according to own test results: 12683.7 ms\n",
    "    \n",
    "    T3) Since the calculator used does not support squaring or parentheses, the specification is equivalent to entering the following expression: “3*3+4*4=*15.2=”. This means that for the expression 14 buttons must be clicked as well as the mouse pointer must be moved 14 times.\n",
    "    \n",
    "        Operators: 14B14B14P\n",
    "        Estimation according to the literature for experienced users: 18200 ms\n",
    "        Estimation according to own test results: 9130.8 ms\n",
    "\n",
    "    T4) Since the calculator used does not support squaring or parentheses, the specification is equivalent to entering the following expression: \"3*3+4*4=*15.2=”. Since the multiplication sign requires not only one keystroke but two (at the same time capital key), 17 keystrokes are necessary.\n",
    "    \n",
    "        Operators: 17K\n",
    "        Estimation according to the literature for experienced users: 3400 ms\n",
    "        Estimation according to own test results: 4227.9 ms\n"
   ]
  },
  {
   "cell_type": "markdown",
   "id": "magnetic-basketball",
   "metadata": {},
   "source": [
    "## Variables\n",
    "The execution and evaluation of the four tasks will be considered as individual experiments in the following.\n",
    "\n",
    "The dependent variable of each of the four experiments is the task completion time. The independent variable is the origin of the task completion time: Prediction according to literature, prediction according to own values and determination based on experimental execution.\n",
    "\n",
    "// The independent variable of this study is the task performed. The dependent variable is the task completion time.\n",
    "\n",
    "To minimize confounding factors, the experiment is conducted in the participants' familiar environment with their own hardware. In addition, care is taken to conduct the tests at a suitable, quiet moment. Notifications on the laptop as well as on the smartphone are muted. "
   ]
  },
  {
   "cell_type": "markdown",
   "id": "associate-trigger",
   "metadata": {},
   "source": [
    "## Participants\n",
    "The experiment was performed on two subjects. Due to the pandemic situation, it is not that easy to recruit study participants. Since it is necessary to run a Python program on a Linux machine for the trial, we decided to test ourselves. \n",
    "As a result, one man and one woman were tested each. The average age of the test subjects is 28 years. Both test subjects are master students of media informatics at the University of Regensburg and used to work with mouse and keyboard on the computer."
   ]
  },
  {
   "cell_type": "code",
   "execution_count": null,
   "id": "russian-kingdom",
   "metadata": {},
   "outputs": [],
   "source": []
  }
 ],
 "metadata": {
  "kernelspec": {
   "display_name": "Python 3",
   "language": "python",
   "name": "python3"
  },
  "language_info": {
   "codemirror_mode": {
    "name": "ipython",
    "version": 3
   },
   "file_extension": ".py",
   "mimetype": "text/x-python",
   "name": "python",
   "nbconvert_exporter": "python",
   "pygments_lexer": "ipython3",
   "version": "3.9.2"
  }
 },
 "nbformat": 4,
 "nbformat_minor": 5
}
